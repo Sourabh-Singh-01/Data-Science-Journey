{
 "cells": [
  {
   "cell_type": "code",
   "execution_count": 1,
   "id": "551a0055",
   "metadata": {},
   "outputs": [
    {
     "name": "stdout",
     "output_type": "stream",
     "text": [
      "Pay 498.75\n"
     ]
    }
   ],
   "source": [
    "#Write a program to prompt the user for hours and rate per hour using input to compute gross pay. Pay should be the normal rate for hours up to 40 and time-and-a-half for the hourly rate for all hours worked above 40 hours. Put the logic to do the computation of pay in a function called computepay() and use the function to do the computation. The function should return a value. Use 45 hours and a rate of 10.50 per hour to test the program (the pay should be 498.75). You should use input to read a string and float() to convert the string to a number. Do not worry about error checking the user input unless you want to - you can assume the user types numbers properly. Do not name your variable sum or use the sum() function.\n",
    "#Desired Output\n",
    "# Pay 498.75\n",
    "def compute_pay(hours,rate):\n",
    "    if(hours > 40):\n",
    "        grosspay = ((hours - 40) * (1.5 * rate) ) + (40 * rate)\n",
    "        return grosspay\n",
    "    else :\n",
    "        grosspay = hours * rate\n",
    "        return grosspay\n",
    "\n",
    "hours = input(\"Enter number of hours : \")\n",
    "rate = input(\"Enter rate : \")\n",
    "print(\"Pay\",compute_pay(float(hours),float(rate)))"
   ]
  }
 ],
 "metadata": {
  "kernelspec": {
   "display_name": "Python 3",
   "language": "python",
   "name": "python3"
  },
  "language_info": {
   "codemirror_mode": {
    "name": "ipython",
    "version": 3
   },
   "file_extension": ".py",
   "mimetype": "text/x-python",
   "name": "python",
   "nbconvert_exporter": "python",
   "pygments_lexer": "ipython3",
   "version": "3.12.0"
  }
 },
 "nbformat": 4,
 "nbformat_minor": 5
}
