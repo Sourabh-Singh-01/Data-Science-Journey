{
 "cells": [
  {
   "cell_type": "code",
   "execution_count": 10,
   "id": "daf1fd64",
   "metadata": {},
   "outputs": [
    {
     "name": "stdout",
     "output_type": "stream",
     "text": [
      "Number of vowels in the word Krishna is 2\n"
     ]
    }
   ],
   "source": [
    "#Write a function that counts the number of vowels in a given string.\n",
    "word = input(\"Enter Character : \")\n",
    "vowels = 0\n",
    "for letter in word:\n",
    "    # if letter == \"a\" or letter == \"e\" or letter == \"i\" or letter == \"u\" or letter == \"o\":\n",
    "    if letter in 'aeiou':\n",
    "        vowels += 1\n",
    "print(f'Number of vowels in the word {word} is {vowels}')"
   ]
  },
  {
   "cell_type": "code",
   "execution_count": 20,
   "id": "6fffe4fc",
   "metadata": {},
   "outputs": [
    {
     "name": "stdout",
     "output_type": "stream",
     "text": [
      "The reversed string of word Krishna is anhsirK\n"
     ]
    }
   ],
   "source": [
    "#Write a program to reverse a string using a for loop\n",
    "word = input('Enter the String')\n",
    "reversed_string = \"\" #Do not use None while reversing the string it will throw error when you concatenate\n",
    "for i in range ((len(word)-1),-1,-1):\n",
    "    reversed_string += word[i]\n",
    "print(f\"The reversed string of word {word} is {reversed_string}\")"
   ]
  },
  {
   "cell_type": "code",
   "execution_count": 11,
   "id": "25049723",
   "metadata": {},
   "outputs": [
    {
     "name": "stdout",
     "output_type": "stream",
     "text": [
      "The given word Kayak is Palindrome\n"
     ]
    }
   ],
   "source": [
    "#Write a program to check if a string is a Palindrome (reads the same backward).\n",
    "word = input('Enter the Word')\n",
    "if word[:].lower() == word[::-1].lower():\n",
    "    print(f\"The given word {word} is Palindrome\")\n",
    "else:\n",
    "    print(f\"The given word {word} is Not a palindrome\")"
   ]
  },
  {
   "cell_type": "code",
   "execution_count": 9,
   "id": "36a9631e",
   "metadata": {},
   "outputs": [
    {
     "name": "stdout",
     "output_type": "stream",
     "text": [
      "0.8475\n"
     ]
    }
   ],
   "source": [
    "# Write code using find() and string slicing (see section 6.10) to extract the number at the end of the line below. Convert the extracted value to a floating point number and print it out.\n",
    "# text = \"X-DSPAM-Confidence:    0.8475\"\n",
    "# Desired Output\n",
    "# 0.8475\n",
    "text = \"X-DSPAM-Confidence:    0.8475\"\n",
    "co_pos = text.find(\":\")\n",
    "length = len(text)\n",
    "number_space = text[co_pos+1:length]\n",
    "number_space = number_space.lstrip()\n",
    "number_space = float(number_space)\n",
    "print(number_space)\n"
   ]
  },
  {
   "cell_type": "code",
   "execution_count": 15,
   "id": "466fa15c",
   "metadata": {},
   "outputs": [
    {
     "name": "stdout",
     "output_type": "stream",
     "text": [
      "The number of times the word simple occur in 'python is simple, yet powerful and simple.' is 2\n"
     ]
    }
   ],
   "source": [
    "#Write a program to count how many times a given word appears in a sentence.\n",
    "# Input sentence + word from user\n",
    "\n",
    "sentence = input(\"Enter the sentence : \")\n",
    "word = input(\"Enter the word : \")\n",
    "sentence = sentence.lower()\n",
    "word = word.lower()\n",
    "occurence = sentence.count(word)\n",
    "print(f\"The number of times the word {word} occur in '{sentence}' is {occurence}\")"
   ]
  },
  {
   "cell_type": "code",
   "execution_count": null,
   "id": "c186376b",
   "metadata": {},
   "outputs": [
    {
     "name": "stdout",
     "output_type": "stream",
     "text": [
      "The domain of email sourab@gmail.com is gmail.com\n"
     ]
    }
   ],
   "source": [
    "#Write a program to extract the domain from an email address\n",
    "# (e.g., user inputs \"sourabh@gmail.com\" → output \"gmail.com\")\n",
    "\n",
    "email = input(\"Enter your email address : \")\n",
    "at_pos = email.find(\"@\")\n",
    "print(f\"The domain of email {email} is {email[at_pos+1 : ]}\")"
   ]
  },
  {
   "cell_type": "code",
   "execution_count": null,
   "id": "bbbd455d",
   "metadata": {},
   "outputs": [
    {
     "name": "stdout",
     "output_type": "stream",
     "text": [
      "Word 'python' occurred 1 times\n",
      "Word 'is' occurred 1 times\n",
      "Word 'simple' occurred 2 times\n",
      "Word 'yet' occurred 1 times\n",
      "Word 'powerful' occurred 1 times\n",
      "Word 'and' occurred 1 times\n",
      "['python', 'is', 'simple', 'yet', 'powerful', 'and']\n"
     ]
    }
   ],
   "source": [
    "# Word Frequency Analyzer (without .count() — use loop)\n",
    "# Write a program that takes a sentence from the user and prints how many times each word occurs in the sentence.\n",
    "# ✅ Constraints:\n",
    "# Ignore case sensitivity (use .lower() before counting)\n",
    "\n",
    "# Ignore punctuation (e.g., commas, periods) — (optional: bonus if you handle this)\n",
    "\n",
    "sentence = \"python is simple, yet powerful and simple.\"\n",
    "sentence = sentence.lower()\n",
    "for ch in sentence:\n",
    "    if ch in \"!,.'?;:\":\n",
    "        sentence = sentence.replace(ch,\"\")\n",
    "words = sentence.split()\n",
    "count_words = []       \n",
    "for word in words : \n",
    "    if word not in count_words:\n",
    "        count = 0\n",
    "        for w in words :\n",
    "            if w == word:\n",
    "                count += 1\n",
    "        print(f\"Word '{word}' occurred {count} times\")   \n",
    "        count_words.append(word) # if not done this then count_words will always be empty and the condition will satisfy for every word even when the occur twice or more than twice.\n",
    "print(count_words)"
   ]
  },
  {
   "cell_type": "markdown",
   "id": "5907ac56",
   "metadata": {},
   "source": []
  },
  {
   "cell_type": "code",
   "execution_count": 9,
   "id": "a8d04fdd",
   "metadata": {},
   "outputs": [
    {
     "name": "stdout",
     "output_type": "stream",
     "text": [
      "Word 'python' occurred 1 times\n",
      "Word 'is' occurred 1 times\n",
      "Word 'simple' occurred 2 times\n",
      "Word 'yet' occurred 1 times\n",
      "Word 'powerful' occurred 1 times\n",
      "Word 'and' occurred 1 times\n"
     ]
    }
   ],
   "source": [
    "## Fully understandable code by ChatGPT\n",
    "import string\n",
    "\n",
    "# Step 1: Take input & normalize\n",
    "sentence = input(\"Enter a sentence: \")\n",
    "sentence = sentence.lower()\n",
    "\n",
    "# Step 2: Remove punctuation\n",
    "for ch in string.punctuation:\n",
    "    sentence = sentence.replace(ch, \"\")\n",
    "\n",
    "# Step 3: Split sentence into words\n",
    "words = sentence.split()\n",
    "\n",
    "# Step 4: Create a list to store counted words\n",
    "counted_words = []\n",
    "\n",
    "# Step 5: Outer loop to go through each word\n",
    "for word in words:\n",
    "    if word not in counted_words:\n",
    "        count = 0\n",
    "        # Inner loop to count occurrences\n",
    "        for w in words:\n",
    "            if w == word:\n",
    "                count += 1\n",
    "        print(f\"Word '{word}' occurred {count} times\")\n",
    "        counted_words.append(word)  # Mark as counted\n"
   ]
  }
 ],
 "metadata": {
  "kernelspec": {
   "display_name": "Python 3",
   "language": "python",
   "name": "python3"
  },
  "language_info": {
   "codemirror_mode": {
    "name": "ipython",
    "version": 3
   },
   "file_extension": ".py",
   "mimetype": "text/x-python",
   "name": "python",
   "nbconvert_exporter": "python",
   "pygments_lexer": "ipython3",
   "version": "3.12.0"
  }
 },
 "nbformat": 4,
 "nbformat_minor": 5
}
