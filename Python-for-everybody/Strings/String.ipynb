{
 "cells": [
  {
   "cell_type": "code",
   "execution_count": 9,
   "id": "daf1fd64",
   "metadata": {},
   "outputs": [
    {
     "name": "stdout",
     "output_type": "stream",
     "text": [
      "Number of vowels in the word Krishna is 2\n"
     ]
    }
   ],
   "source": [
    "#Write a function that counts the number of vowels in a given string.\n",
    "word = input(\"Enter Character : \")\n",
    "vowels = 0\n",
    "for letter in word:\n",
    "    if letter == \"a\" or letter == \"e\" or letter == \"i\" or letter == \"u\" or letter == \"o\":\n",
    "        vowels += 1\n",
    "print(f'Number of vowels in the word {word} is {vowels}')"
   ]
  },
  {
   "cell_type": "code",
   "execution_count": 20,
   "id": "6fffe4fc",
   "metadata": {},
   "outputs": [
    {
     "name": "stdout",
     "output_type": "stream",
     "text": [
      "The reversed string of word Krishna is anhsirK\n"
     ]
    }
   ],
   "source": [
    "#Write a program to reverse a string using a for loop\n",
    "word = input('Enter the String')\n",
    "reversed_string = \"\" #Do not use None while reversing the string it will throw error when you concatenate\n",
    "for i in range ((len(word)-1),-1,-1):\n",
    "    reversed_string += word[i]\n",
    "print(f\"The reversed string of word {word} is {reversed_string}\")"
   ]
  },
  {
   "cell_type": "code",
   "execution_count": 25,
   "id": "25049723",
   "metadata": {},
   "outputs": [
    {
     "name": "stdout",
     "output_type": "stream",
     "text": [
      "The given word kayak is Palindrome\n"
     ]
    }
   ],
   "source": [
    "#Write a program to check if a string is a Palindrome (reads the same backward).\n",
    "word = input('Enter the Word')\n",
    "if word[:] == word[::-1]:\n",
    "    print(f\"The given word {word} is Palindrome\")\n",
    "else:\n",
    "    print(f\"The given word {word} is Not a palindrome\")"
   ]
  }
 ],
 "metadata": {
  "kernelspec": {
   "display_name": "Python 3",
   "language": "python",
   "name": "python3"
  },
  "language_info": {
   "codemirror_mode": {
    "name": "ipython",
    "version": 3
   },
   "file_extension": ".py",
   "mimetype": "text/x-python",
   "name": "python",
   "nbconvert_exporter": "python",
   "pygments_lexer": "ipython3",
   "version": "3.12.0"
  }
 },
 "nbformat": 4,
 "nbformat_minor": 5
}
