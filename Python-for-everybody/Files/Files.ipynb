{
 "cells": [
  {
   "cell_type": "code",
   "execution_count": null,
   "id": "d022796b",
   "metadata": {},
   "outputs": [
    {
     "name": "stdout",
     "output_type": "stream",
     "text": [
      "Average spam confidence: 0.7507185185185187\n"
     ]
    }
   ],
   "source": [
    "#Write a program that prompts for a file name, then opens that file and reads through the file, looking for lines of the form:\n",
    "# X-DSPAM-Confidence:    0.8475\n",
    "# Count these lines and extract the floating point values from each of the lines and compute the average of those values and produce an output as shown below. Do not use the sum() function or a variable named sum in your solution.\n",
    "# You can download the sample data at http://www.py4e.com/code3/mbox-short.txt when you are testing below enter mbox-short.txt as the file name.\n",
    "#Desired Output\n",
    "# Average spam confidence: 0.7507185185185187\n",
    "fname = input(\"Enter the File name : \")\n",
    "fhand = open(fname,'r')\n",
    "total = 0\n",
    "count_line = 0\n",
    "for line in fhand:\n",
    "    line = line.rstrip()\n",
    "    if line.startswith(\"X-DSPAM-Confidence\"):\n",
    "        count_line += 1\n",
    "        co_pos = line.find(\":\")\n",
    "        str_val = line[co_pos+1 : ].strip()\n",
    "        val = float(str_val)\n",
    "        total += val\n",
    "fhand.close()        \n",
    "print(f\"Average spam confidence: {total/count_line}\")"
   ]
  },
  {
   "cell_type": "code",
   "execution_count": null,
   "id": "adfb2dbe",
   "metadata": {},
   "outputs": [],
   "source": [
    "# Moderate-Hard File Handling Question\n",
    "# Problem Statement:\n",
    "# Write a Python program that:\n",
    "\n",
    "    # Prompts the user for a file name.\n",
    "\n",
    "    # Opens and reads the file.\n",
    "\n",
    "    # Finds lines that start with:\n",
    "\n",
    "        # From \n",
    "        # (note the space after From)\n",
    "    # 4. Extracts the email address from those lines and counts how many times each email address appears.\n",
    "    # 5. Prints the email address with the highest occurrence (i.e., the person who sent the most emails).\n",
    "\n",
    "# 📊 Desired Output Example:\n",
    "# (For file mbox-short.txt)\n",
    "\n",
    "# Enter the file name: mbox-short.txt  \n",
    "# The person who sent the most emails is: cwen@iupui.edu (5 times)"
   ]
  },
  {
   "cell_type": "code",
   "execution_count": null,
   "id": "bd686db6",
   "metadata": {},
   "outputs": [
    {
     "name": "stdout",
     "output_type": "stream",
     "text": [
      " sourabh@gmail.com\n",
      " john.doe@outlook.com\n",
      " sourabh@gmail.com\n",
      " emily.watson@yahoo.com\n",
      " rohit.singh@gmail.com\n",
      " john.doe@outlook.com\n",
      " sourabh@gmail.com\n",
      " emily.watson@yahoo.com\n",
      " rohit.singh@gmail.com\n",
      " sourabh@gmail.com\n"
     ]
    }
   ],
   "source": [
    "fname = input(\"Enter the file name : \")\n",
    "fhand = open(fname,\"r\")\n",
    "for line in fhand:\n",
    "    line = line.rstrip()\n",
    "    if line.startswith('From'):\n",
    "        sp_first = line.find(' ')\n",
    "        sp_second = line.find(' ',sp_first+1)\n",
    "        email = line[sp_first : sp_second]\n",
    "        print(email)\n",
    "## Will continue this code after some time"
   ]
  }
 ],
 "metadata": {
  "kernelspec": {
   "display_name": "Python 3",
   "language": "python",
   "name": "python3"
  },
  "language_info": {
   "codemirror_mode": {
    "name": "ipython",
    "version": 3
   },
   "file_extension": ".py",
   "mimetype": "text/x-python",
   "name": "python",
   "nbconvert_exporter": "python",
   "pygments_lexer": "ipython3",
   "version": "3.12.0"
  }
 },
 "nbformat": 4,
 "nbformat_minor": 5
}
