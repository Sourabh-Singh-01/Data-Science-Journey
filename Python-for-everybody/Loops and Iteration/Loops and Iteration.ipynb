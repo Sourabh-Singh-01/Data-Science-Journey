{
 "cells": [
  {
   "cell_type": "code",
   "execution_count": 8,
   "id": "3c872e7e",
   "metadata": {},
   "outputs": [
    {
     "name": "stdout",
     "output_type": "stream",
     "text": [
      "5\n",
      "4\n",
      "3\n",
      "2\n"
     ]
    }
   ],
   "source": [
    "# Basic while loop code\n",
    "n = 5\n",
    "while (n>0) :\n",
    "    if ( n == 1 ) :\n",
    "        break\n",
    "    print(n)\n",
    "    n = n-1 "
   ]
  },
  {
   "cell_type": "code",
   "execution_count": null,
   "id": "0560a83a",
   "metadata": {},
   "outputs": [
    {
     "name": "stdout",
     "output_type": "stream",
     "text": [
      "5\n",
      "4\n",
      "3\n",
      "2\n"
     ]
    }
   ],
   "source": [
    "# continue \n",
    "n = 5\n",
    "while (n>0) :\n",
    "    if ( n == 1 ) :\n",
    "        n = n-1 # update the value of n here because if we do not update it the loop will run forever\n",
    "        continue\n",
    "    print(n)\n",
    "    n = n-1 "
   ]
  },
  {
   "cell_type": "code",
   "execution_count": 10,
   "id": "91935bb0",
   "metadata": {},
   "outputs": [
    {
     "name": "stdout",
     "output_type": "stream",
     "text": [
      "1\n",
      "2\n",
      "3\n",
      "4\n",
      "5\n"
     ]
    }
   ],
   "source": [
    "# Basic for loop\n",
    "for i in [1,2,3,4,5] :\n",
    "    print(i)"
   ]
  },
  {
   "cell_type": "code",
   "execution_count": null,
   "id": "27fd49bb",
   "metadata": {},
   "outputs": [
    {
     "name": "stdout",
     "output_type": "stream",
     "text": [
      "Invalid input\n",
      "10 2\n"
     ]
    }
   ],
   "source": [
    "# Write a program that repeatedly prompts a user for integer numbers until the user enters 'done'. Once 'done' is entered, print out the largest and smallest of the numbers. If the user enters anything other than a valid number catch it with a try/except and put out an appropriate message and ignore the number. Enter 7, 2, bob, 10, and 4 and match the output below. \n",
    "#Desired Output\n",
    "# Invalid input\n",
    "# Maximum is 10\n",
    "# Minimum is 2\n",
    "largest = None\n",
    "smallest = None\n",
    "while (True):    \n",
    "    n = input(\"Enter the Number : \")\n",
    "    try :\n",
    "        if n != 'done':\n",
    "            n = int(n)\n",
    "            if largest is None:\n",
    "                largest = n\n",
    "            elif n > largest :\n",
    "                largest = n\n",
    "            if smallest is None:\n",
    "                smallest = n\n",
    "            elif n < smallest :\n",
    "                smallest = n\n",
    "    except :\n",
    "        print(\"Invalid input\")\n",
    "        continue\n",
    "    if n == 'done' :\n",
    "        print(\"Maximum is\",largest)\n",
    "        print(\"Minimum is\",smallest)\n",
    "        break\n"
   ]
  }
 ],
 "metadata": {
  "kernelspec": {
   "display_name": "Python 3",
   "language": "python",
   "name": "python3"
  },
  "language_info": {
   "codemirror_mode": {
    "name": "ipython",
    "version": 3
   },
   "file_extension": ".py",
   "mimetype": "text/x-python",
   "name": "python",
   "nbconvert_exporter": "python",
   "pygments_lexer": "ipython3",
   "version": "3.12.0"
  }
 },
 "nbformat": 4,
 "nbformat_minor": 5
}
