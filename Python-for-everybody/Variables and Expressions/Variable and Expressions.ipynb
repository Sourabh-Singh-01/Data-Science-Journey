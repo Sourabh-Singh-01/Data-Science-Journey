{
 "cells": [
  {
   "cell_type": "code",
   "execution_count": 3,
   "id": "1358de5c",
   "metadata": {},
   "outputs": [
    {
     "name": "stdout",
     "output_type": "stream",
     "text": [
      "Hello World\n"
     ]
    }
   ],
   "source": [
    "#Printing Hello World\n",
    "print(\"Hello World\")"
   ]
  },
  {
   "cell_type": "code",
   "execution_count": null,
   "id": "deb7ebcf",
   "metadata": {},
   "outputs": [
    {
     "name": "stdout",
     "output_type": "stream",
     "text": [
      "USA Floor :  3\n"
     ]
    }
   ],
   "source": [
    "#Conversion of Floors in USA and Europe\n",
    "# USA - Ground Floor - 1\n",
    "# Europe - Ground Floor - 0\n",
    "floor = input(\"Enter Floor : \")\n",
    "usf = int(floor) + 1\n",
    "print(\"USA Floor : \",usf)"
   ]
  },
  {
   "cell_type": "code",
   "execution_count": 3,
   "id": "34eb840b",
   "metadata": {},
   "outputs": [
    {
     "name": "stdout",
     "output_type": "stream",
     "text": [
      "Hello Sarah\n"
     ]
    }
   ],
   "source": [
    "#Write a program that uses input to prompt a user for their name and then welcomes them. Note that input will pop up a dialog box. Enter Sarah in the pop-up box when you are prompted so your output will match the desired output.\n",
    "#Desired Output\n",
    "#Hello Sarah\n",
    "\n",
    "name = input(\"Enter your Name : \")\n",
    "print(\"Hello\",name)\n"
   ]
  },
  {
   "cell_type": "code",
   "execution_count": 5,
   "id": "1fb4b907",
   "metadata": {},
   "outputs": [
    {
     "name": "stdout",
     "output_type": "stream",
     "text": [
      "Pay: 96.25\n"
     ]
    }
   ],
   "source": [
    "#Write a program to prompt the user for hours and rate per hour using input to compute gross pay. Use 35 hours and a rate of 2.75 per hour to test the program (the pay should be 96.25). You should use input to read a string and float() to convert the string to a number. Do not worry about error checking or bad user data.\n",
    "#Desired Output\n",
    "#Pay: 96.25\n",
    "\n",
    "hours = input(\"Enter hours : \")\n",
    "rate = input(\"Enter Rate : \")\n",
    "pay = float(hours) * float(rate)\n",
    "print(\"Pay:\",pay)\n"
   ]
  },
  {
   "cell_type": "code",
   "execution_count": null,
   "id": "3ac6218c",
   "metadata": {},
   "outputs": [],
   "source": []
  }
 ],
 "metadata": {
  "kernelspec": {
   "display_name": "Python 3",
   "language": "python",
   "name": "python3"
  },
  "language_info": {
   "codemirror_mode": {
    "name": "ipython",
    "version": 3
   },
   "file_extension": ".py",
   "mimetype": "text/x-python",
   "name": "python",
   "nbconvert_exporter": "python",
   "pygments_lexer": "ipython3",
   "version": "3.12.0"
  }
 },
 "nbformat": 4,
 "nbformat_minor": 5
}
