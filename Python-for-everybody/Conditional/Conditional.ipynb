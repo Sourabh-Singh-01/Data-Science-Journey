{
 "cells": [
  {
   "cell_type": "code",
   "execution_count": 6,
   "id": "59210d49",
   "metadata": {},
   "outputs": [
    {
     "name": "stdout",
     "output_type": "stream",
     "text": [
      "498.75\n"
     ]
    }
   ],
   "source": [
    "#Write a program to prompt the user for hours and rate per hour using input to compute gross pay. Pay the hourly rate for the hours up to 40 and 1.5 times the hourly rate for all hours worked above 40 hours. Use 45 hours and a rate of 10.50 per hour to test the program (the pay should be 498.75). You should use input to read a string and float() to convert the string to a number. Do not worry about error checking the user input - assume the user types numbers properly.\n",
    "#Desired Output \n",
    "#498.75\n",
    "\n",
    "hours = input(\"Enter the number of hours : \")\n",
    "rate = input(\"Enter the Rate : \")\n",
    "hours = float(hours)\n",
    "rate = float(rate)\n",
    "if (hours < 40) : \n",
    "    grosspay = hours * rate\n",
    "    print(grosspay)\n",
    "else: \n",
    "    extrahour = hours - 40\n",
    "    grosspay = (extrahour * (1.5 * rate)) + ( 40 * rate)\n",
    "    print(grosspay)\n"
   ]
  },
  {
   "cell_type": "code",
   "execution_count": 8,
   "id": "a3b370f6",
   "metadata": {},
   "outputs": [
    {
     "name": "stdout",
     "output_type": "stream",
     "text": [
      "B\n"
     ]
    }
   ],
   "source": [
    "#Write a program to prompt for a score between 0.0 and 1.0. If the score is out of range, print an error. If the score is between 0.0 and 1.0, print a grade using the following table:\n",
    "# Score Grade\n",
    "# >= 0.9 A\n",
    "# >= 0.8 B\n",
    "# >= 0.7 C\n",
    "# >= 0.6 D\n",
    "# < 0.6 F\n",
    "# If the user enters a value out of range, print a suitable error message and exit. For the test, enter a score of 0.85.\n",
    "#Desired Output - B\n",
    "grade = float(input(\"Enter the Grade of Student between 0.0 and 1.0\"))\n",
    "\n",
    "if (grade >= 0.9 ):\n",
    "    print(\"A\")\n",
    "elif (grade >= 0.8 ):\n",
    "    print(\"B\")\n",
    "elif (grade >= 0.7 ):\n",
    "    print(\"C\")\n",
    "elif (grade >= 0.6 ):\n",
    "    print(\"D\")\n",
    "elif (grade < 0.6 ):\n",
    "    print(\"F\")\n",
    "else:\n",
    "    print(\"Please enter the grade in given range\")    "
   ]
  }
 ],
 "metadata": {
  "kernelspec": {
   "display_name": "Python 3",
   "language": "python",
   "name": "python3"
  },
  "language_info": {
   "codemirror_mode": {
    "name": "ipython",
    "version": 3
   },
   "file_extension": ".py",
   "mimetype": "text/x-python",
   "name": "python",
   "nbconvert_exporter": "python",
   "pygments_lexer": "ipython3",
   "version": "3.12.0"
  }
 },
 "nbformat": 4,
 "nbformat_minor": 5
}
